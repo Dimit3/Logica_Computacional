{
 "cells": [
  {
   "cell_type": "markdown",
   "metadata": {},
   "source": [
    "# Revisões de Python e grafos"
   ]
  },
  {
   "cell_type": "markdown",
   "metadata": {},
   "source": [
    "<div style=\"color:#0000FF\"> Um grafo *orientado* e *não pesado* é um par $(V,E)$ onde $V$ é um conjunto finito de vértices e $E$ uma relação binária em $V$, o conjunto de *arcos* ou *arestas* do grafo. </div>\n",
    "\n",
    "Um grafo *não pesado* pode ser representado usando *listas de adjacências*. Em Python é\n",
    "possível implementar as ditas usando um dicionário de listas, onde a cada vértice temos associada a sua lista\n",
    "de adjacentes (vértices directamente ligados através de uma aresta).\n",
    "\n",
    "Se o grafo for também *não orientado* bastará desdobrar cada aresta em duas adjacências.\n",
    "\n",
    "Por exemplo, o grafo\n",
    "\n",
    "<img src=\"exemplo.png\" width=400/>\n",
    "\n",
    "pode ser armazenado no dicionário `graph` da seguinte forma."
   ]
  },
  {
   "cell_type": "code",
   "execution_count": 1,
   "metadata": {},
   "outputs": [],
   "source": [
    "graph = {'OPO': ['LIS', 'FAO', 'MAD', 'FRA'],\n",
    "         'LIS': ['OPO', 'FAO', 'LON', 'NRT', 'FRA'],\n",
    "         'FAO': ['OPO', 'LIS'],\n",
    "         'MAD': ['OPO'],\n",
    "         'LON': ['LIS', 'NRT', 'FRA'],\n",
    "         'FRA': ['OPO', 'LON', 'LIS'],\n",
    "         'NRT': ['LIS', 'LON']}"
   ]
  },
  {
   "cell_type": "code",
   "execution_count": 2,
   "metadata": {},
   "outputs": [
    {
     "data": {
      "text/plain": [
       "7"
      ]
     },
     "execution_count": 2,
     "metadata": {},
     "output_type": "execute_result"
    }
   ],
   "source": [
    "len(graph) "
   ]
  },
  {
   "cell_type": "markdown",
   "metadata": {},
   "source": [
    "### Exercício 1\n",
    "Defina uma função `count_edges` que conta o número de arestas de um grafo representado desta forma."
   ]
  },
  {
   "cell_type": "code",
   "execution_count": 3,
   "metadata": {},
   "outputs": [
    {
     "name": "stdout",
     "output_type": "stream",
     "text": [
      "10\n",
      "10\n"
     ]
    }
   ],
   "source": [
    "def count_edges(g):\n",
    "    k = set()\n",
    "    \n",
    "    for x in g:\n",
    "        for z in g[x]:\n",
    "            k.add((x,z))       \n",
    "            k.add((z,x))\n",
    "    return int(len(k)/2)\n",
    "            \n",
    "def count_edges2(g):\n",
    "    return sum(map(lambda t : len(graph[t]), graph)) //2\n",
    "\n",
    "print(count_edges(graph))\n",
    "print(count_edges2(graph))"
   ]
  },
  {
   "cell_type": "markdown",
   "metadata": {},
   "source": [
    "Um grafo não orientado pode ser armazenado num ficheiro num formato de texto escrevendo um arco por linha da seguinte forma (conforme conteúdo do ficheiro `exemplo.txt`)."
   ]
  },
  {
   "cell_type": "markdown",
   "metadata": {},
   "source": [
    "```\n",
    "OPO LIS\n",
    "OPO FAO\n",
    "LIS FAO\n",
    "MAD OPO\n",
    "LIS LON\n",
    "FRA OPO\n",
    "LIS NRT\n",
    "LON NRT\n",
    "LON FRA\n",
    "LIS FRA\n",
    "```"
   ]
  },
  {
   "cell_type": "markdown",
   "metadata": {},
   "source": [
    "Para criar um grafo a partir de um ficheiro armazenado neste formato podemos usar a seguinte função."
   ]
  },
  {
   "cell_type": "code",
   "execution_count": 4,
   "metadata": {},
   "outputs": [
    {
     "data": {
      "text/plain": [
       "{'OPO': ['LIS', 'FAO', 'MAD', 'FRA'],\n",
       " 'LIS': ['OPO', 'FAO', 'LON', 'NRT', 'FRA'],\n",
       " 'FAO': ['OPO', 'LIS'],\n",
       " 'MAD': ['OPO'],\n",
       " 'LON': ['LIS', 'NRT', 'FRA'],\n",
       " 'FRA': ['OPO', 'LON', 'LIS'],\n",
       " 'NRT': ['LIS', 'LON']}"
      ]
     },
     "execution_count": 4,
     "metadata": {},
     "output_type": "execute_result"
    }
   ],
   "source": [
    "def parse(name):\n",
    "    file = open(name)\n",
    "    adj = {}\n",
    "    for l in file:\n",
    "        o,d = l.split()\n",
    "        if o not in adj:\n",
    "            adj[o] = []\n",
    "        if d not in adj:\n",
    "            adj[d] = []\n",
    "        adj[o].append(d)\n",
    "        adj[d].append(o)\n",
    "    return(adj)\n",
    "\n",
    "parse(\"exemplo.txt\")"
   ]
  },
  {
   "cell_type": "markdown",
   "metadata": {},
   "source": [
    "Existem muitos algoritmos para analisar grafos. Um exemplo, é o seguinte algoritmo que calcula a *distância* entre\n",
    "cada par de vértices de um grafo *não pesado*. A distância entre dois vértices é o comprimento do caminho mais curto\n",
    "entre eles. A função `all_pairs_shortest_paths` devolve todas as distâncias usando um dicionário de dicionários de \n",
    "distâncias (no fundo uma matriz de distâncias)."
   ]
  },
  {
   "cell_type": "code",
   "execution_count": 5,
   "metadata": {},
   "outputs": [
    {
     "data": {
      "text/plain": [
       "{'OPO': {'OPO': 0, 'LIS': 1, 'FAO': 1, 'MAD': 1, 'LON': 2, 'FRA': 1, 'NRT': 2},\n",
       " 'LIS': {'OPO': 1, 'LIS': 0, 'FAO': 1, 'MAD': 2, 'LON': 1, 'FRA': 1, 'NRT': 1},\n",
       " 'FAO': {'OPO': 1, 'LIS': 1, 'FAO': 0, 'MAD': 2, 'LON': 2, 'FRA': 2, 'NRT': 2},\n",
       " 'MAD': {'OPO': 1, 'LIS': 2, 'FAO': 2, 'MAD': 0, 'LON': 3, 'FRA': 2, 'NRT': 3},\n",
       " 'LON': {'OPO': 2, 'LIS': 1, 'FAO': 2, 'MAD': 3, 'LON': 0, 'FRA': 1, 'NRT': 1},\n",
       " 'FRA': {'OPO': 1, 'LIS': 1, 'FAO': 2, 'MAD': 2, 'LON': 1, 'FRA': 0, 'NRT': 2},\n",
       " 'NRT': {'OPO': 2, 'LIS': 1, 'FAO': 2, 'MAD': 3, 'LON': 1, 'FRA': 2, 'NRT': 0}}"
      ]
     },
     "execution_count": 5,
     "metadata": {},
     "output_type": "execute_result"
    }
   ],
   "source": [
    "def all_pairs_shortest_paths(adj):\n",
    "    dist = {}\n",
    "    for o in adj:\n",
    "        dist[o] = {}\n",
    "        for d in adj:\n",
    "            if o == d:\n",
    "                dist[o][d] = 0\n",
    "            else:\n",
    "                dist[o][d] = float(\"inf\")\n",
    "        for d in adj[o]:\n",
    "                dist[o][d] = 1\n",
    "    for k in adj:\n",
    "        for o in adj:\n",
    "            for d in adj:\n",
    "                if dist[o][d] > dist[o][k] + dist[k][d]:\n",
    "                    dist[o][d] = dist[o][k] + dist[k][d]\n",
    "    return dist\n",
    "\n",
    "all_pairs_shortest_paths(parse(\"exemplo.txt\"))"
   ]
  },
  {
   "cell_type": "markdown",
   "metadata": {},
   "source": [
    "### Exercício 2\n",
    "O *diâmetro* de um grafo é a distância entre os seus vértices mais afastados. Defina a função `diameter` que calcula o\n",
    "diâmetro de um grafo, tirando proveito da função `all_pairs_shortest_paths`."
   ]
  },
  {
   "cell_type": "code",
   "execution_count": 6,
   "metadata": {},
   "outputs": [
    {
     "data": {
      "text/plain": [
       "3"
      ]
     },
     "execution_count": 6,
     "metadata": {},
     "output_type": "execute_result"
    }
   ],
   "source": [
    "# def diameter(adj):\n",
    "#     # completar\n",
    "#     dist = all_pairs_shortest_paths(adj);\n",
    "#     m = 0\n",
    "#     for cidade in dist:\n",
    "#         m = max(m,max(dist[cidade].values()))\n",
    "            \n",
    "            \n",
    "#     return m\n",
    "        \n",
    "def diameter(adj):\n",
    "    dist = all_pairs_shortest_paths(adj); \n",
    "    m = 0\n",
    "    for x in dist:\n",
    "        for y in dist[x]:\n",
    "            m = max(m,dist[x][y])\n",
    "    return m\n",
    "            \n",
    "    \n",
    "diameter(parse(\"exemplo.txt\"))"
   ]
  },
  {
   "cell_type": "markdown",
   "metadata": {},
   "source": [
    "## Biblioteca `NetworkX` para manipulação de grafos."
   ]
  },
  {
   "cell_type": "markdown",
   "metadata": {},
   "source": [
    "A biblioteca `NetworkX` diponibiliza implementações de vários tipos de grafos e de muitos algoritmos para os analisar e visualizar. Para importar esta biblioteca de forma qualificada faz-se o seguinte."
   ]
  },
  {
   "cell_type": "code",
   "execution_count": 7,
   "metadata": {},
   "outputs": [],
   "source": [
    "import networkx as nx"
   ]
  },
  {
   "cell_type": "markdown",
   "metadata": {},
   "source": [
    "O tutorial desta biblioteca pode ser encontrado em https://networkx.github.io/documentation/stable/tutorial.html."
   ]
  },
  {
   "cell_type": "markdown",
   "metadata": {},
   "source": [
    "### Exercício 3\n",
    "Reimplemente a função `parse` passando a usar a implementação de grafos desta biblioteca em vez dos dicionários do python."
   ]
  },
  {
   "cell_type": "code",
   "execution_count": 8,
   "metadata": {},
   "outputs": [
    {
     "data": {
      "text/plain": [
       "{'OPO': ['LIS', 'FAO', 'MAD', 'FRA'],\n",
       " 'LIS': ['OPO', 'FAO', 'LON', 'NRT', 'FRA'],\n",
       " 'FAO': ['OPO', 'LIS'],\n",
       " 'MAD': ['OPO'],\n",
       " 'LON': ['LIS', 'NRT', 'FRA'],\n",
       " 'FRA': ['OPO', 'LON', 'LIS'],\n",
       " 'NRT': ['LIS', 'LON']}"
      ]
     },
     "execution_count": 8,
     "metadata": {},
     "output_type": "execute_result"
    }
   ],
   "source": [
    "\n",
    "\n",
    "def parse(name):\n",
    "    # completar\n",
    "    \n",
    "    file = open(name)\n",
    "    g = nx.Graph()\n",
    "    \n",
    "    for l in file:\n",
    "        o,d = l.split()\n",
    "        g.add_edge(o, d)\n",
    "    \n",
    "    return g\n",
    "\n",
    "def parse2(name):\n",
    "    return nx.read_edgelist(name)\n",
    "    \n",
    "    \n",
    "\n",
    "\n",
    "graph = parse2(\"exemplo.txt\")\n",
    "nx.to_dict_of_lists(graph) # converte o grafo para um dicionário de listas"
   ]
  },
  {
   "cell_type": "markdown",
   "metadata": {},
   "source": [
    "### Exercício 4\n",
    "Implemente outra versão da função `parse` usando directamente as funções disponibilizadas pelo `NetworkX` para leitura\n",
    "e escrita em ficheiro, conforme https://networkx.github.io/documentation/stable/reference/readwrite/index.html."
   ]
  },
  {
   "cell_type": "code",
   "execution_count": 9,
   "metadata": {},
   "outputs": [
    {
     "ename": "IndentationError",
     "evalue": "expected an indented block (<ipython-input-9-9f003f4598de>, line 4)",
     "output_type": "error",
     "traceback": [
      "\u001b[1;36m  File \u001b[1;32m\"<ipython-input-9-9f003f4598de>\"\u001b[1;36m, line \u001b[1;32m4\u001b[0m\n\u001b[1;33m    graph = parse(\"exemplo.txt\")\u001b[0m\n\u001b[1;37m    ^\u001b[0m\n\u001b[1;31mIndentationError\u001b[0m\u001b[1;31m:\u001b[0m expected an indented block\n"
     ]
    }
   ],
   "source": [
    "def parse(name):\n",
    "    # completar \n",
    "        \n",
    "graph = parse(\"exemplo.txt\")\n",
    "nx.to_dict_of_lists(graph)"
   ]
  },
  {
   "cell_type": "markdown",
   "metadata": {},
   "source": [
    "Como referido acima, a vantagem de usar a biblioteca `NetworkX` é que os algoritmos de análise mais usais estão todos já implementados. Por exemplo, para calcular o diâmetro do grafo exemplo basta fazer o seguinte."
   ]
  },
  {
   "cell_type": "code",
   "execution_count": null,
   "metadata": {},
   "outputs": [],
   "source": [
    "nx.diameter(parse(\"exemplo.txt\"))"
   ]
  },
  {
   "cell_type": "markdown",
   "metadata": {},
   "source": [
    "### Exercício 5\n",
    "Utilize a bibliotecas `NetworkX` e `Matplotlib` para desenhar o grafo exemplo, conforme explicado em https://networkx.github.io/documentation/stable/tutorial.html#drawing-graphs."
   ]
  },
  {
   "cell_type": "code",
   "execution_count": null,
   "metadata": {},
   "outputs": [],
   "source": [
    "# completar\n",
    "#colocar parecido\n",
    "nx.draw(graph, pos=nx.planar_layout(graph), with_labels = True, node_size = 1000)"
   ]
  },
  {
   "cell_type": "markdown",
   "metadata": {},
   "source": [
    "### Exercício 6\n",
    "A biblioteca `NetworkX` disponibiliza também vários geradores de grafos pré-definidos, coforme documentação em https://networkx.github.io/documentation/stable/reference/generators.html.\n",
    "    Use esses geradores para criar um grafo degenerado que é um ciclo com 100 vértices. \n",
    "    Desenhe esse grafo e calcule o seu diâmetro \n",
    "    (que deverá ser 50)."
   ]
  },
  {
   "cell_type": "code",
   "execution_count": 13,
   "metadata": {},
   "outputs": [
    {
     "name": "stdout",
     "output_type": "stream",
     "text": [
      "250\n",
      "{0: [1, 499], 1: [0, 2], 2: [1, 3], 3: [2, 4], 4: [3, 5], 5: [4, 6], 6: [5, 7], 7: [6, 8], 8: [7, 9], 9: [8, 10], 10: [9, 11], 11: [10, 12], 12: [11, 13], 13: [12, 14], 14: [13, 15], 15: [14, 16], 16: [15, 17], 17: [16, 18], 18: [17, 19], 19: [18, 20], 20: [19, 21], 21: [20, 22], 22: [21, 23], 23: [22, 24], 24: [23, 25], 25: [24, 26], 26: [25, 27], 27: [26, 28], 28: [27, 29], 29: [28, 30], 30: [29, 31], 31: [30, 32], 32: [31, 33], 33: [32, 34], 34: [33, 35], 35: [34, 36], 36: [35, 37], 37: [36, 38], 38: [37, 39], 39: [38, 40], 40: [39, 41], 41: [40, 42], 42: [41, 43], 43: [42, 44], 44: [43, 45], 45: [44, 46], 46: [45, 47], 47: [46, 48], 48: [47, 49], 49: [48, 50], 50: [49, 51], 51: [50, 52], 52: [51, 53], 53: [52, 54], 54: [53, 55], 55: [54, 56], 56: [55, 57], 57: [56, 58], 58: [57, 59], 59: [58, 60], 60: [59, 61], 61: [60, 62], 62: [61, 63], 63: [62, 64], 64: [63, 65], 65: [64, 66], 66: [65, 67], 67: [66, 68], 68: [67, 69], 69: [68, 70], 70: [69, 71], 71: [70, 72], 72: [71, 73], 73: [72, 74], 74: [73, 75], 75: [74, 76], 76: [75, 77], 77: [76, 78], 78: [77, 79], 79: [78, 80], 80: [79, 81], 81: [80, 82], 82: [81, 83], 83: [82, 84], 84: [83, 85], 85: [84, 86], 86: [85, 87], 87: [86, 88], 88: [87, 89], 89: [88, 90], 90: [89, 91], 91: [90, 92], 92: [91, 93], 93: [92, 94], 94: [93, 95], 95: [94, 96], 96: [95, 97], 97: [96, 98], 98: [97, 99], 99: [98, 100], 100: [99, 101], 101: [100, 102], 102: [101, 103], 103: [102, 104], 104: [103, 105], 105: [104, 106], 106: [105, 107], 107: [106, 108], 108: [107, 109], 109: [108, 110], 110: [109, 111], 111: [110, 112], 112: [111, 113], 113: [112, 114], 114: [113, 115], 115: [114, 116], 116: [115, 117], 117: [116, 118], 118: [117, 119], 119: [118, 120], 120: [119, 121], 121: [120, 122], 122: [121, 123], 123: [122, 124], 124: [123, 125], 125: [124, 126], 126: [125, 127], 127: [126, 128], 128: [127, 129], 129: [128, 130], 130: [129, 131], 131: [130, 132], 132: [131, 133], 133: [132, 134], 134: [133, 135], 135: [134, 136], 136: [135, 137], 137: [136, 138], 138: [137, 139], 139: [138, 140], 140: [139, 141], 141: [140, 142], 142: [141, 143], 143: [142, 144], 144: [143, 145], 145: [144, 146], 146: [145, 147], 147: [146, 148], 148: [147, 149], 149: [148, 150], 150: [149, 151], 151: [150, 152], 152: [151, 153], 153: [152, 154], 154: [153, 155], 155: [154, 156], 156: [155, 157], 157: [156, 158], 158: [157, 159], 159: [158, 160], 160: [159, 161], 161: [160, 162], 162: [161, 163], 163: [162, 164], 164: [163, 165], 165: [164, 166], 166: [165, 167], 167: [166, 168], 168: [167, 169], 169: [168, 170], 170: [169, 171], 171: [170, 172], 172: [171, 173], 173: [172, 174], 174: [173, 175], 175: [174, 176], 176: [175, 177], 177: [176, 178], 178: [177, 179], 179: [178, 180], 180: [179, 181], 181: [180, 182], 182: [181, 183], 183: [182, 184], 184: [183, 185], 185: [184, 186], 186: [185, 187], 187: [186, 188], 188: [187, 189], 189: [188, 190], 190: [189, 191], 191: [190, 192], 192: [191, 193], 193: [192, 194], 194: [193, 195], 195: [194, 196], 196: [195, 197], 197: [196, 198], 198: [197, 199], 199: [198, 200], 200: [199, 201], 201: [200, 202], 202: [201, 203], 203: [202, 204], 204: [203, 205], 205: [204, 206], 206: [205, 207], 207: [206, 208], 208: [207, 209], 209: [208, 210], 210: [209, 211], 211: [210, 212], 212: [211, 213], 213: [212, 214], 214: [213, 215], 215: [214, 216], 216: [215, 217], 217: [216, 218], 218: [217, 219], 219: [218, 220], 220: [219, 221], 221: [220, 222], 222: [221, 223], 223: [222, 224], 224: [223, 225], 225: [224, 226], 226: [225, 227], 227: [226, 228], 228: [227, 229], 229: [228, 230], 230: [229, 231], 231: [230, 232], 232: [231, 233], 233: [232, 234], 234: [233, 235], 235: [234, 236], 236: [235, 237], 237: [236, 238], 238: [237, 239], 239: [238, 240], 240: [239, 241], 241: [240, 242], 242: [241, 243], 243: [242, 244], 244: [243, 245], 245: [244, 246], 246: [245, 247], 247: [246, 248], 248: [247, 249], 249: [248, 250], 250: [249, 251], 251: [250, 252], 252: [251, 253], 253: [252, 254], 254: [253, 255], 255: [254, 256], 256: [255, 257], 257: [256, 258], 258: [257, 259], 259: [258, 260], 260: [259, 261], 261: [260, 262], 262: [261, 263], 263: [262, 264], 264: [263, 265], 265: [264, 266], 266: [265, 267], 267: [266, 268], 268: [267, 269], 269: [268, 270], 270: [269, 271], 271: [270, 272], 272: [271, 273], 273: [272, 274], 274: [273, 275], 275: [274, 276], 276: [275, 277], 277: [276, 278], 278: [277, 279], 279: [278, 280], 280: [279, 281], 281: [280, 282], 282: [281, 283], 283: [282, 284], 284: [283, 285], 285: [284, 286], 286: [285, 287], 287: [286, 288], 288: [287, 289], 289: [288, 290], 290: [289, 291], 291: [290, 292], 292: [291, 293], 293: [292, 294], 294: [293, 295], 295: [294, 296], 296: [295, 297], 297: [296, 298], 298: [297, 299], 299: [298, 300], 300: [299, 301], 301: [300, 302], 302: [301, 303], 303: [302, 304], 304: [303, 305], 305: [304, 306], 306: [305, 307], 307: [306, 308], 308: [307, 309], 309: [308, 310], 310: [309, 311], 311: [310, 312], 312: [311, 313], 313: [312, 314], 314: [313, 315], 315: [314, 316], 316: [315, 317], 317: [316, 318], 318: [317, 319], 319: [318, 320], 320: [319, 321], 321: [320, 322], 322: [321, 323], 323: [322, 324], 324: [323, 325], 325: [324, 326], 326: [325, 327], 327: [326, 328], 328: [327, 329], 329: [328, 330], 330: [329, 331], 331: [330, 332], 332: [331, 333], 333: [332, 334], 334: [333, 335], 335: [334, 336], 336: [335, 337], 337: [336, 338], 338: [337, 339], 339: [338, 340], 340: [339, 341], 341: [340, 342], 342: [341, 343], 343: [342, 344], 344: [343, 345], 345: [344, 346], 346: [345, 347], 347: [346, 348], 348: [347, 349], 349: [348, 350], 350: [349, 351], 351: [350, 352], 352: [351, 353], 353: [352, 354], 354: [353, 355], 355: [354, 356], 356: [355, 357], 357: [356, 358], 358: [357, 359], 359: [358, 360], 360: [359, 361], 361: [360, 362], 362: [361, 363], 363: [362, 364], 364: [363, 365], 365: [364, 366], 366: [365, 367], 367: [366, 368], 368: [367, 369], 369: [368, 370], 370: [369, 371], 371: [370, 372], 372: [371, 373], 373: [372, 374], 374: [373, 375], 375: [374, 376], 376: [375, 377], 377: [376, 378], 378: [377, 379], 379: [378, 380], 380: [379, 381], 381: [380, 382], 382: [381, 383], 383: [382, 384], 384: [383, 385], 385: [384, 386], 386: [385, 387], 387: [386, 388], 388: [387, 389], 389: [388, 390], 390: [389, 391], 391: [390, 392], 392: [391, 393], 393: [392, 394], 394: [393, 395], 395: [394, 396], 396: [395, 397], 397: [396, 398], 398: [397, 399], 399: [398, 400], 400: [399, 401], 401: [400, 402], 402: [401, 403], 403: [402, 404], 404: [403, 405], 405: [404, 406], 406: [405, 407], 407: [406, 408], 408: [407, 409], 409: [408, 410], 410: [409, 411], 411: [410, 412], 412: [411, 413], 413: [412, 414], 414: [413, 415], 415: [414, 416], 416: [415, 417], 417: [416, 418], 418: [417, 419], 419: [418, 420], 420: [419, 421], 421: [420, 422], 422: [421, 423], 423: [422, 424], 424: [423, 425], 425: [424, 426], 426: [425, 427], 427: [426, 428], 428: [427, 429], 429: [428, 430], 430: [429, 431], 431: [430, 432], 432: [431, 433], 433: [432, 434], 434: [433, 435], 435: [434, 436], 436: [435, 437], 437: [436, 438], 438: [437, 439], 439: [438, 440], 440: [439, 441], 441: [440, 442], 442: [441, 443], 443: [442, 444], 444: [443, 445], 445: [444, 446], 446: [445, 447], 447: [446, 448], 448: [447, 449], 449: [448, 450], 450: [449, 451], 451: [450, 452], 452: [451, 453], 453: [452, 454], 454: [453, 455], 455: [454, 456], 456: [455, 457], 457: [456, 458], 458: [457, 459], 459: [458, 460], 460: [459, 461], 461: [460, 462], 462: [461, 463], 463: [462, 464], 464: [463, 465], 465: [464, 466], 466: [465, 467], 467: [466, 468], 468: [467, 469], 469: [468, 470], 470: [469, 471], 471: [470, 472], 472: [471, 473], 473: [472, 474], 474: [473, 475], 475: [474, 476], 476: [475, 477], 477: [476, 478], 478: [477, 479], 479: [478, 480], 480: [479, 481], 481: [480, 482], 482: [481, 483], 483: [482, 484], 484: [483, 485], 485: [484, 486], 486: [485, 487], 487: [486, 488], 488: [487, 489], 489: [488, 490], 490: [489, 491], 491: [490, 492], 492: [491, 493], 493: [492, 494], 494: [493, 495], 495: [494, 496], 496: [495, 497], 497: [496, 498], 498: [497, 499], 499: [498, 0]}\n"
     ]
    },
    {
     "data": {
      "image/png": "[encoded data removed]",
      "text/plain": [
       "<Figure size 432x288 with 1 Axes>"
      ]
     },
     "metadata": {},
     "output_type": "display_data"
    }
   ],
   "source": [
    "# completar\n",
    "import z3\n",
    "\n",
    "G = nx.cycle_graph(100)\n",
    "nx.draw(G)\n",
    "print(diameter(nx.to_dict_of_lists(G) ))\n",
    "\n",
    "print(nx.to_dict_of_lists(G))\n"
   ]
  }
 ],
 "metadata": {
  "kernelspec": {
   "display_name": "Python 3",
   "language": "python",
   "name": "python3"
  },
  "language_info": {
   "codemirror_mode": {
    "name": "ipython",
    "version": 3
   },
   "file_extension": ".py",
   "mimetype": "text/x-python",
   "name": "python",
   "nbconvert_exporter": "python",
   "pygments_lexer": "ipython3",
   "version": "3.8.3"
  }
 },
 "nbformat": 4,
 "nbformat_minor": 2
}
